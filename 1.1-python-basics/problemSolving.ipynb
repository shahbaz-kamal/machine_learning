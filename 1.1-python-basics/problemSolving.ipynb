{
 "cells": [
  {
   "cell_type": "markdown",
   "metadata": {},
   "source": [
    "## Problem Digit Summation\n",
    "Given Two numbers N and M. print the summation of  their last digits"
   ]
  },
  {
   "cell_type": "code",
   "execution_count": 5,
   "metadata": {},
   "outputs": [
    {
     "name": "stdout",
     "output_type": "stream",
     "text": [
      "5\n",
      "['13', '12']\n"
     ]
    }
   ],
   "source": [
    "inp=input(\"Enter first number\")\n",
    "# y=int(input(\"Enter Second number\"))\n",
    "\n",
    "numbers=inp.split(\" \")\n",
    "x=int(numbers[0])\n",
    "y=int(numbers[1])\n",
    "last_digit_x=x%10\n",
    "last_digit_y=y%10\n",
    "\n",
    "sum=last_digit_x+last_digit_y\n",
    "\n",
    "print(sum)\n",
    "print(numbers)\n",
    "\n"
   ]
  },
  {
   "cell_type": "code",
   "execution_count": 7,
   "metadata": {},
   "outputs": [
    {
     "name": "stdout",
     "output_type": "stream",
     "text": [
      "2\n"
     ]
    }
   ],
   "source": [
    "print(7//3)"
   ]
  }
 ],
 "metadata": {
  "kernelspec": {
   "display_name": "Python 3",
   "language": "python",
   "name": "python3"
  },
  "language_info": {
   "codemirror_mode": {
    "name": "ipython",
    "version": 3
   },
   "file_extension": ".py",
   "mimetype": "text/x-python",
   "name": "python",
   "nbconvert_exporter": "python",
   "pygments_lexer": "ipython3",
   "version": "3.14.0"
  }
 },
 "nbformat": 4,
 "nbformat_minor": 2
}
