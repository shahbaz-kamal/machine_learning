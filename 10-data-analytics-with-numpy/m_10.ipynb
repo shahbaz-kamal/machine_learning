{
 "cells": [
  {
   "cell_type": "markdown",
   "metadata": {},
   "source": [
    "## creating nd array from scratch"
   ]
  },
  {
   "cell_type": "code",
   "execution_count": 7,
   "metadata": {},
   "outputs": [
    {
     "name": "stdout",
     "output_type": "stream",
     "text": [
      "[[1 1 1]\n",
      " [1 1 1]\n",
      " [1 1 1]\n",
      " [1 1 1]\n",
      " [1 1 1]\n",
      " [1 1 1]]\n",
      "<class 'numpy.ndarray'>\n",
      "int16\n",
      "(6, 3)\n",
      "2\n",
      "18\n"
     ]
    }
   ],
   "source": [
    "import numpy as np\n",
    "\n",
    "arr3 = np.array([\n",
    "    #1st floor\n",
    "    [ [1,2,3], # row1\n",
    "      [4,5,6]  ], #row2 \n",
    "\n",
    "    #2nd floor\n",
    "\n",
    "     [[1,2,3], # row1\n",
    "      [4,5,6]  ], #row2  \n",
    "\n",
    "\n",
    "    #3rd floor\n",
    "      [[1,2,3], # row1\n",
    "      [4,5,6]  ] #row2  \n",
    "\n",
    "    \n",
    "])\n",
    "\n",
    "# arr=np.zeros((6,3),dtype=np.int16)\n",
    "# print(arr)\n",
    "# print(type(arr))\n",
    "# print(arr.dtype)\n",
    "# print(arr.shape)\n",
    "# print(arr.ndim)\n",
    "# print(arr.size)\n",
    "\n",
    "# arr=np.zeros_like(arr3)\n",
    "# print(arr)\n",
    "# print(type(arr))\n",
    "# print(arr.dtype)\n",
    "# print(arr.shape)\n",
    "# print(arr.ndim)\n",
    "# print(arr.size)\n",
    "\n",
    "\n",
    "arr=arr=np.ones((6,3),dtype=np.int16)\n",
    "print(arr)\n",
    "print(type(arr))\n",
    "print(arr.dtype)\n",
    "print(arr.shape)\n",
    "print(arr.ndim)\n",
    "print(arr.size)"
   ]
  },
  {
   "cell_type": "markdown",
   "metadata": {},
   "source": [
    "## arrray creation with random numbers"
   ]
  },
  {
   "cell_type": "code",
   "execution_count": 14,
   "metadata": {},
   "outputs": [
    {
     "name": "stdout",
     "output_type": "stream",
     "text": [
      "[[0.56855009 0.01994695 0.98383297]\n",
      " [0.2034045  0.07158944 0.72080766]]\n",
      "<class 'numpy.ndarray'>\n",
      "float64\n",
      "(2, 3)\n",
      "2\n",
      "6\n"
     ]
    }
   ],
   "source": [
    "arr=np.random.rand(2,3)\n",
    "print(arr)\n",
    "print(type(arr))\n",
    "print(arr.dtype)\n",
    "print(arr.shape)\n",
    "print(arr.ndim)\n",
    "print(arr.size)"
   ]
  },
  {
   "cell_type": "code",
   "execution_count": 18,
   "metadata": {},
   "outputs": [
    {
     "name": "stdout",
     "output_type": "stream",
     "text": [
      "[[8 2 9]\n",
      " [1 2 9]]\n",
      "<class 'numpy.ndarray'>\n",
      "int32\n",
      "(2, 3)\n",
      "2\n",
      "6\n"
     ]
    }
   ],
   "source": [
    "arr=np.random.randint(1,10,(2,3))\n",
    "print(arr)\n",
    "print(type(arr))\n",
    "print(arr.dtype)\n",
    "print(arr.shape)\n",
    "print(arr.ndim)\n",
    "print(arr.size)"
   ]
  },
  {
   "cell_type": "code",
   "execution_count": 19,
   "metadata": {},
   "outputs": [
    {
     "name": "stdout",
     "output_type": "stream",
     "text": [
      "[[6.0908712  3.9488054  4.38973219]\n",
      " [4.11455938 4.34811178 7.47938606]]\n",
      "<class 'numpy.ndarray'>\n",
      "float64\n",
      "(2, 3)\n",
      "2\n",
      "6\n"
     ]
    }
   ],
   "source": [
    "arr=np.random.uniform(1,10,(2,3))\n",
    "print(arr)\n",
    "print(type(arr))\n",
    "print(arr.dtype)\n",
    "print(arr.shape)\n",
    "print(arr.ndim)\n",
    "print(arr.size)"
   ]
  },
  {
   "cell_type": "markdown",
   "metadata": {},
   "source": [
    "## array creation with range functions"
   ]
  },
  {
   "cell_type": "code",
   "execution_count": 21,
   "metadata": {},
   "outputs": [
    {
     "name": "stdout",
     "output_type": "stream",
     "text": [
      "[1 2 3 4 5 6 7 8 9]\n"
     ]
    }
   ],
   "source": [
    "arr=np.arange(1,10,1)\n",
    "\n",
    "print(arr)"
   ]
  },
  {
   "cell_type": "code",
   "execution_count": 23,
   "metadata": {},
   "outputs": [
    {
     "name": "stdout",
     "output_type": "stream",
     "text": [
      "[1.  1.8 2.6 3.4 4.2 5. ]\n"
     ]
    }
   ],
   "source": [
    "arr=np.linspace(1,5,6)\n",
    "print(arr)"
   ]
  },
  {
   "cell_type": "code",
   "execution_count": null,
   "metadata": {},
   "outputs": [],
   "source": []
  }
 ],
 "metadata": {
  "kernelspec": {
   "display_name": "base",
   "language": "python",
   "name": "python3"
  },
  "language_info": {
   "codemirror_mode": {
    "name": "ipython",
    "version": 3
   },
   "file_extension": ".py",
   "mimetype": "text/x-python",
   "name": "python",
   "nbconvert_exporter": "python",
   "pygments_lexer": "ipython3",
   "version": "3.13.5"
  }
 },
 "nbformat": 4,
 "nbformat_minor": 2
}
