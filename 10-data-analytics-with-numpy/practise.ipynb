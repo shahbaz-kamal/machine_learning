{
 "cells": [
  {
   "cell_type": "markdown",
   "metadata": {},
   "source": [
    "## 1. You have a list of temperatures recorded in Celsius. Your task is to:\n",
    " <p>Create a NumPy array from the given list.</p>\n",
    "<p>Convert all temperatures from Celsius to Fahrenheit. The formula is F = C* 1.8 + 32.</p>\n",
    "<p>Print the new Fahrenheit array.</p>\n"
   ]
  },
  {
   "cell_type": "code",
   "execution_count": 1,
   "metadata": {},
   "outputs": [
    {
     "name": "stdout",
     "output_type": "stream",
     "text": [
      "[32, 45.2, 50, 75, 8, 90, 100]\n",
      "temp: [ 32.   45.2  50.   75.    8.   90.  100. ]\n"
     ]
    }
   ],
   "source": [
    "import numpy as np\n",
    "\n",
    "tempList=[32, 45.2, 50, 75, 8, 90, 100]\n",
    "print(tempList)\n",
    "\n",
    "#1 creating numpy array from tempList\n",
    "temp=np.array(tempList)\n",
    "print(\"temp:\",temp)"
   ]
  },
  {
   "cell_type": "code",
   "execution_count": 2,
   "metadata": {},
   "outputs": [
    {
     "name": "stdout",
     "output_type": "stream",
     "text": [
      "temp_farenhite: [ 89.6  113.36 122.   167.    46.4  194.   212.  ]\n"
     ]
    }
   ],
   "source": [
    "temp_farenhite= temp *1.8 +32\n",
    "print(\"temp_farenhite:\",temp_farenhite)"
   ]
  },
  {
   "cell_type": "code",
   "execution_count": 9,
   "metadata": {},
   "outputs": [
    {
     "name": "stdout",
     "output_type": "stream",
     "text": [
      "[ 60 180 120 240 360 300  75]\n",
      "(7,)\n",
      "7\n",
      "1\n",
      "lap_times in minutes: [1.   3.   2.   4.   6.   5.   1.25]\n"
     ]
    }
   ],
   "source": [
    "lap_items=[60,180,120,240,360,300,75]\n",
    "lap_items=np.array(lap_items)\n",
    "print(lap_items)\n",
    "print(lap_items.shape)\n",
    "print(lap_items.size)\n",
    "print(lap_items.ndim)\n",
    "lap_times= lap_items/60\n",
    "print(\"lap_times in minutes:\",lap_times)"
   ]
  }
 ],
 "metadata": {
  "kernelspec": {
   "display_name": "base",
   "language": "python",
   "name": "python3"
  },
  "language_info": {
   "codemirror_mode": {
    "name": "ipython",
    "version": 3
   },
   "file_extension": ".py",
   "mimetype": "text/x-python",
   "name": "python",
   "nbconvert_exporter": "python",
   "pygments_lexer": "ipython3",
   "version": "3.13.5"
  }
 },
 "nbformat": 4,
 "nbformat_minor": 2
}
