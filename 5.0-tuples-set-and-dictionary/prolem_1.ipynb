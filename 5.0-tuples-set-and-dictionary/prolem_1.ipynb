{
 "cells": [
  {
   "cell_type": "markdown",
   "metadata": {},
   "source": [
    "problem 1: given a list of numbers. make a list of unique valuye."
   ]
  },
  {
   "cell_type": "code",
   "execution_count": 1,
   "metadata": {},
   "outputs": [
    {
     "name": "stdout",
     "output_type": "stream",
     "text": [
      "{40, 10, 50, 20, 30}\n"
     ]
    }
   ],
   "source": [
    "lst=[10,20,20,10,30,40,50,30,50,40]\n",
    "unique=set(lst)\n",
    "print(unique)\n"
   ]
  },
  {
   "cell_type": "markdown",
   "metadata": {},
   "source": [
    "## problem 2 : frequency of words count"
   ]
  },
  {
   "cell_type": "code",
   "execution_count": 3,
   "metadata": {},
   "outputs": [
    {
     "name": "stdout",
     "output_type": "stream",
     "text": [
      "['data', 'science', 'is', 'fun', 'and', 'data', 'analysis', 'helps', 'to', 'make', 'better', 'decisions', 'with', 'machine', 'learning', 'and', 'ai']\n",
      "{'data': 2, 'science': 1, 'is': 1, 'fun': 1, 'and': 2, 'analysis': 1, 'helps': 1, 'to': 1, 'make': 1, 'better': 1, 'decisions': 1, 'with': 1, 'machine': 1, 'learning': 1, 'ai': 1}\n"
     ]
    }
   ],
   "source": [
    "sentence = \"data science is fun and data analysis helps to make better decisions with machine learning and ai\"\n",
    "words=sentence.split()\n",
    "print(words)\n",
    "count={}\n",
    "for word in words:\n",
    "    count[word]=count.get(word,0)+1\n",
    "print(count)"
   ]
  },
  {
   "cell_type": "code",
   "execution_count": null,
   "metadata": {},
   "outputs": [],
   "source": []
  }
 ],
 "metadata": {
  "kernelspec": {
   "display_name": "Python 3",
   "language": "python",
   "name": "python3"
  },
  "language_info": {
   "codemirror_mode": {
    "name": "ipython",
    "version": 3
   },
   "file_extension": ".py",
   "mimetype": "text/x-python",
   "name": "python",
   "nbconvert_exporter": "python",
   "pygments_lexer": "ipython3",
   "version": "3.14.0"
  }
 },
 "nbformat": 4,
 "nbformat_minor": 2
}
