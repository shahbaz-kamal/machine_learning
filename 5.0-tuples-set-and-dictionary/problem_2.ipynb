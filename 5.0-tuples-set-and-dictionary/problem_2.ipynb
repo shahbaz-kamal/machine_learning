{
 "cells": [
  {
   "cell_type": "markdown",
   "metadata": {},
   "source": [
    "## J. Count Letters\n",
    "Given a string S. Determine how many times does each letter occurred in S.\n",
    "\n",
    "Input\n",
    "Only one line contains the string S (1 ≤ |S| ≤ 107) where |S| is the length of the string and it consists of only lowercase English letters.\n",
    "\n",
    "Output\n",
    "For each character that appears in S, print a single line that contains the following format: \"X : Y\" where X is the letter and Y is the number of times that letter X occurred in S.\n",
    "\n",
    "Note: you must print letters in ascending order."
   ]
  },
  {
   "cell_type": "code",
   "execution_count": null,
   "metadata": {},
   "outputs": [
    {
     "name": "stdout",
     "output_type": "stream",
     "text": [
      "a : 3\n",
      "b : 2\n",
      "c : 1\n"
     ]
    }
   ],
   "source": [
    "inp=input()\n",
    "words=list(inp)\n",
    "count={}\n",
    "for word in words:\n",
    "    count[word]=count.get(word,0)+1\n",
    "for key in sorted(count):\n",
    "    print(f\"{key} : {count[key]}\")\n"
   ]
  },
  {
   "cell_type": "code",
   "execution_count": null,
   "metadata": {},
   "outputs": [],
   "source": []
  }
 ],
 "metadata": {
  "kernelspec": {
   "display_name": "Python 3",
   "language": "python",
   "name": "python3"
  },
  "language_info": {
   "codemirror_mode": {
    "name": "ipython",
    "version": 3
   },
   "file_extension": ".py",
   "mimetype": "text/x-python",
   "name": "python",
   "nbconvert_exporter": "python",
   "pygments_lexer": "ipython3",
   "version": "3.14.0"
  }
 },
 "nbformat": 4,
 "nbformat_minor": 2
}
