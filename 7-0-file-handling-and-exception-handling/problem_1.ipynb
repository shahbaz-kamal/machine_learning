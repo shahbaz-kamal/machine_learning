{
 "cells": [
  {
   "cell_type": "markdown",
   "metadata": {},
   "source": [
    "Create a text file named **emails.txt** containing multiple email addresses, some in uppercase and some repeated.\n",
    "Write a Python program to clean the data by converting all emails to lowercase, removing duplicates, sorting them alphabetically, and saving the cleaned list to a new file named **unique_emails.txt**."
   ]
  },
  {
   "cell_type": "code",
   "execution_count": 23,
   "metadata": {},
   "outputs": [
    {
     "name": "stdout",
     "output_type": "stream",
     "text": [
      "['admin@company.org', 'contact@mywebsite.com', 'feedback@example.com', 'hello@example.com', 'help@startup.io', 'hr@startup.io', 'info@mywebsite.com', 'jane_smith@example.com', 'john.doe@example.com', 'marketing@company.org', 'sales@company.org', 'support@company.org']\n"
     ]
    }
   ],
   "source": [
    "with open(\"./emails.txt\",\"r\") as file:\n",
    "    data=file.readlines()\n",
    "    #removing \\n\n",
    "    cleanedData=list(map(str.strip,data))\n",
    "    #making everything in lowercase\n",
    "    cleanedData=list(map(str.lower,cleanedData))\n",
    "    #removing duplicasy\n",
    "    unique_data=[]\n",
    "    for i in cleanedData:\n",
    "        if i not in unique_data:\n",
    "            unique_data.append(i)\n",
    "    # removing empty string \n",
    "    unique_data=list(filter(lambda x:len(x)>0,unique_data))\n",
    "    #sorting\n",
    "    sortedData=sorted(unique_data)\n",
    "    # print(cleanedData)\n",
    "    # print(unique_data)\n",
    "    print(sortedData)\n",
    "with open('./unique_emails.txt',\"w\") as file:\n",
    "    for item in sortedData:\n",
    "        file.writelines(f\"{item.strip()}\\n\")\n",
    "\n",
    "    \n"
   ]
  },
  {
   "cell_type": "code",
   "execution_count": null,
   "metadata": {},
   "outputs": [],
   "source": []
  }
 ],
 "metadata": {
  "kernelspec": {
   "display_name": "base",
   "language": "python",
   "name": "python3"
  },
  "language_info": {
   "codemirror_mode": {
    "name": "ipython",
    "version": 3
   },
   "file_extension": ".py",
   "mimetype": "text/x-python",
   "name": "python",
   "nbconvert_exporter": "python",
   "pygments_lexer": "ipython3",
   "version": "3.13.5"
  }
 },
 "nbformat": 4,
 "nbformat_minor": 2
}
