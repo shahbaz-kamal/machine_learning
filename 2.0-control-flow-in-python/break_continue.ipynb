{
 "cells": [
  {
   "cell_type": "markdown",
   "metadata": {},
   "source": [
    "## Break and continue in python"
   ]
  },
  {
   "cell_type": "code",
   "execution_count": null,
   "metadata": {},
   "outputs": [],
   "source": [
    "accuracy = 95 \n",
    "\n",
    "# for i in range(20):\n",
    "    # accuracy+=1 \n",
    "    # print(accuracy)\n",
    "    # if accuracy == 100 :\n",
    "    #     break \n",
    "while True:\n",
    "        if accuracy==100:\n",
    "            break\n",
    "        accuracy+=1"
   ]
  },
  {
   "cell_type": "markdown",
   "metadata": {},
   "source": []
  }
 ],
 "metadata": {
  "kernelspec": {
   "display_name": "Python 3",
   "language": "python",
   "name": "python3"
  },
  "language_info": {
   "codemirror_mode": {
    "name": "ipython",
    "version": 3
   },
   "file_extension": ".py",
   "mimetype": "text/x-python",
   "name": "python",
   "nbconvert_exporter": "python",
   "pygments_lexer": "ipython3",
   "version": "3.14.0"
  }
 },
 "nbformat": 4,
 "nbformat_minor": 2
}
