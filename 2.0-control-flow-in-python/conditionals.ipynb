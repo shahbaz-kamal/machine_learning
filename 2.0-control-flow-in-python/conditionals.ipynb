{
 "cells": [
  {
   "cell_type": "markdown",
   "metadata": {},
   "source": [
    "## Conditionals in Pyrthon"
   ]
  },
  {
   "cell_type": "code",
   "execution_count": 1,
   "metadata": {},
   "outputs": [
    {
     "name": "stdout",
     "output_type": "stream",
     "text": [
      "ghurte jabo\n"
     ]
    }
   ],
   "source": [
    "taka = 1000\n",
    "raining = False \n",
    "\n",
    "## 500 er beshi and jodi brishti na hoi\n",
    "\n",
    "if (taka > 500) and (raining == False) or ():\n",
    "    print(\"ghurte jabo\")\n",
    "else:\n",
    "    print(\"Taka ta save korbo\")"
   ]
  }
 ],
 "metadata": {
  "kernelspec": {
   "display_name": "Python 3",
   "language": "python",
   "name": "python3"
  },
  "language_info": {
   "codemirror_mode": {
    "name": "ipython",
    "version": 3
   },
   "file_extension": ".py",
   "mimetype": "text/x-python",
   "name": "python",
   "nbconvert_exporter": "python",
   "pygments_lexer": "ipython3",
   "version": "3.14.0"
  }
 },
 "nbformat": 4,
 "nbformat_minor": 2
}
