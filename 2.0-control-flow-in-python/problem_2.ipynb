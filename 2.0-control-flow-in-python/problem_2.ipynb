{
 "cells": [
  {
   "cell_type": "markdown",
   "metadata": {},
   "source": [
    "### ### C. Even, Odd, Positive and Negative"
   ]
  },
  {
   "cell_type": "markdown",
   "metadata": {},
   "source": [
    "https://codeforces.com/group/MWSDmqGsZm/contest/219432/problem/C"
   ]
  },
  {
   "cell_type": "code",
   "execution_count": null,
   "metadata": {},
   "outputs": [
    {
     "name": "stdout",
     "output_type": "stream",
     "text": [
      "Even: 1\n",
      "Odd: 4\n",
      "Positive 3\n",
      "Negative 2\n"
     ]
    }
   ],
   "source": [
    "n=int(input())\n",
    "inp=input()\n",
    "numbers=inp.split()\n",
    "\n",
    "positive=0;negative=0;even=0;odd=0\n",
    "\n",
    "\n",
    "for i in range(n):\n",
    "    x=int(numbers[i])\n",
    "    if x<0:\n",
    "        negative+=1\n",
    "    elif x>0:\n",
    "        positive+=1\n",
    "    if x%2==0:\n",
    "        even+=1\n",
    "    else: \n",
    "        odd+=1\n",
    "        \n",
    "print(\"Even:\",even)\n",
    "print(\"Odd:\",odd)\n",
    "print(\"Positive:\",positive)\n",
    "print(\"Negative:\",negative)\n",
    "\n",
    "\n"
   ]
  }
 ],
 "metadata": {
  "kernelspec": {
   "display_name": "Python 3",
   "language": "python",
   "name": "python3"
  },
  "language_info": {
   "codemirror_mode": {
    "name": "ipython",
    "version": 3
   },
   "file_extension": ".py",
   "mimetype": "text/x-python",
   "name": "python",
   "nbconvert_exporter": "python",
   "pygments_lexer": "ipython3",
   "version": "3.14.0"
  }
 },
 "nbformat": 4,
 "nbformat_minor": 2
}
