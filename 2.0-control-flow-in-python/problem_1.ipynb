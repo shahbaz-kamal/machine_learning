{
 "cells": [
  {
   "cell_type": "markdown",
   "metadata": {},
   "source": [
    "# Given 3 numbers A, B and C, Print the minimum and the maximum numbers"
   ]
  },
  {
   "cell_type": "markdown",
   "metadata": {},
   "source": [
    "**Input:** Only one line containing 3 numbers A, B and C ( - 105 ≤ A, B, C ≤ 105)\n",
    "\n",
    "**Output:** Print the minimum number followed by a single space then print the maximum number.\n",
    "Examples:\n",
    "\n",
    "**input:** 1 2 3, **output :** 1 3 \n",
    "\n",
    "**input:** 10 20 -5, **output :** -5 20\n",
    "\n",
    "\n"
   ]
  },
  {
   "cell_type": "code",
   "execution_count": null,
   "metadata": {},
   "outputs": [
    {
     "name": "stdout",
     "output_type": "stream",
     "text": [
      "1 3\n"
     ]
    }
   ],
   "source": [
    "inp=input()\n",
    "numberList=inp.split()\n",
    "a=int(numberList[0])\n",
    "b=int(numberList[1])\n",
    "c=int(numberList[2])\n",
    "\n",
    "minNumber=a\n",
    "maxNumber=a\n",
    "\n",
    "if minNumber>b:\n",
    "    minNumber=b\n",
    "if minNumber>c:\n",
    "   minNumber=c\n",
    "if maxNumber<b:\n",
    "    maxNumber=b\n",
    "if maxNumber<c:\n",
    "    maxNumber=c\n",
    "\n",
    "print(minNumber,maxNumber)\n",
    "\n",
    "\n",
    "\n",
    "    \n"
   ]
  },
  {
   "cell_type": "code",
   "execution_count": null,
   "metadata": {},
   "outputs": [],
   "source": []
  }
 ],
 "metadata": {
  "kernelspec": {
   "display_name": "Python 3",
   "language": "python",
   "name": "python3"
  },
  "language_info": {
   "codemirror_mode": {
    "name": "ipython",
    "version": 3
   },
   "file_extension": ".py",
   "mimetype": "text/x-python",
   "name": "python",
   "nbconvert_exporter": "python",
   "pygments_lexer": "ipython3",
   "version": "3.14.0"
  }
 },
 "nbformat": 4,
 "nbformat_minor": 2
}
