{
 "cells": [
  {
   "cell_type": "markdown",
   "metadata": {},
   "source": [
    "### Email Address: ```shahbazkamal84@gmail.com```"
   ]
  },
  {
   "cell_type": "code",
   "execution_count": 5,
   "metadata": {},
   "outputs": [
    {
     "name": "stdout",
     "output_type": "stream",
     "text": [
      "Sample Data Created and Saved as employees.csv\n",
      "   id  age  salary     dept\n",
      "0   1   56   77191       HR\n",
      "1   2   46   74131       IT\n",
      "2   3   32   46023  Finance\n",
      "3   4   25   71090       IT\n",
      "4   5   38   31685       HR\n",
      "5   6   56   30769    Sales\n",
      "6   7   36   89735  Finance\n",
      "7   8   40   86101       IT\n",
      "8   9   28   32433    Sales\n",
      "9  10   28   35311       HR\n"
     ]
    }
   ],
   "source": [
    "import numpy as np\n",
    "import pandas as pd\n",
    "\n",
    "np.random.seed(42)\n",
    "\n",
    "ids = np.arange(1, 11)\n",
    "ages = np.random.randint(18, 60, 10)\n",
    "salaries = np.random.randint(30000, 90000, 10)\n",
    "departments = np.array([\"HR\", \"IT\", \"Finance\", \"IT\", \"HR\", \"Sales\", \"Finance\", \"IT\", \"Sales\", \"HR\"])\n",
    "\n",
    "DF = pd.DataFrame({\n",
    "\"id\": ids,\n",
    "\"age\": ages,\n",
    "\"salary\": salaries,\n",
    "\"dept\": departments\n",
    "})\n",
    "\n",
    "DF.to_csv(\"employees.csv\", index=False)\n",
    "print(\"Sample Data Created and Saved as employees.csv\")\n",
    "print(DF)\n"
   ]
  },
  {
   "cell_type": "markdown",
   "metadata": {},
   "source": [
    "### Answer to Q1:"
   ]
  },
  {
   "cell_type": "code",
   "execution_count": 17,
   "metadata": {},
   "outputs": [
    {
     "name": "stdout",
     "output_type": "stream",
     "text": [
      "Salaries: [77191 74131 46023 71090 31685 30769 89735 86101 32433 35311]\n",
      "Salary dtype: int32\n",
      "Salary ndim: 1\n",
      "Salary shape: (10,)\n",
      "Salary size: 10\n",
      "\n",
      "ages: [56 46 32 25 38 56 36 40 28 28]\n",
      "age dtype: int32\n",
      "age ndim: 1\n",
      "age shape: (10,)\n",
      "age size: 10\n"
     ]
    }
   ],
   "source": [
    "salaries=DF[\"salary\"].to_numpy()\n",
    "ages=DF[\"age\"].to_numpy()\n",
    "print(\"Salaries:\",salaries)\n",
    "print(\"Salary dtype:\",salaries.dtype)\n",
    "print(\"Salary ndim:\",salaries.ndim)\n",
    "print(\"Salary shape:\",salaries.shape)\n",
    "print(\"Salary size:\",salaries.size)\n",
    "\n",
    "print(\"\\nages:\",ages)\n",
    "print(\"age dtype:\",ages.dtype)\n",
    "print(\"age ndim:\",ages.ndim)\n",
    "print(\"age shape:\",ages.shape)\n",
    "print(\"age size:\",ages.size)"
   ]
  },
  {
   "cell_type": "markdown",
   "metadata": {},
   "source": [
    "### Q2. Using the ```salaries``` array, find and print the highest and lowest salary values. Also, calculate and print the average salary and age using NumPy functions.\n",
    "**Solution:**"
   ]
  },
  {
   "cell_type": "code",
   "execution_count": 19,
   "metadata": {},
   "outputs": [
    {
     "name": "stdout",
     "output_type": "stream",
     "text": [
      "Maximum Salary: 89735\n",
      "Minimum Salary: 30769\n",
      "Average Salary: 57446.9\n",
      "Average Age: 38.5\n"
     ]
    }
   ],
   "source": [
    "maximum_salary=np.max(salaries)\n",
    "minimum_salary=np.min(salaries)\n",
    "average_salary=np.mean(salaries)\n",
    "average_age=np.mean(ages)\n",
    "\n",
    "print(\"Maximum Salary:\",maximum_salary)\n",
    "print(\"Minimum Salary:\",minimum_salary)\n",
    "print(\"Average Salary:\",average_salary)\n",
    "print(\"Average Age:\",average_age)"
   ]
  },
  {
   "cell_type": "markdown",
   "metadata": {},
   "source": [
    "### Q3. From the ```ages``` array, filter and print all ages greater than 30 using a boolean condition. Then count and print how many employees are older than 30.\n",
    "\n",
    "### Solution:"
   ]
  },
  {
   "cell_type": "code",
   "execution_count": 22,
   "metadata": {},
   "outputs": [
    {
     "name": "stdout",
     "output_type": "stream",
     "text": [
      "All Ages greater than 30: [56 46 32 38 56 36 40]\n",
      "Number of employees older than 30: 7\n"
     ]
    }
   ],
   "source": [
    "greater_than_30=ages[ages>30]\n",
    "print(\"All Ages greater than 30:\",greater_than_30)\n",
    "employees_older_than_30=np.sum(ages>30)\n",
    "print(\"Number of employees older than 30:\",employees_older_than_30)"
   ]
  },
  {
   "cell_type": "markdown",
   "metadata": {},
   "source": [
    "### **Q4**. Create a new NumPy array that increases every employee’s age by 5 years (without modifying the original array). Print the new updated ages array.\n",
    "### **Solution**"
   ]
  },
  {
   "cell_type": "code",
   "execution_count": null,
   "metadata": {},
   "outputs": [
    {
     "name": "stdout",
     "output_type": "stream",
     "text": [
      "New Age Array after reducing 5 years: [61 51 37 30 43 61 41 45 33 33]\n",
      "[56 46 32 25 38 56 36 40 28 28]\n"
     ]
    }
   ],
   "source": [
    "new_age_array=ages+5\n",
    "print(\"New Age Array after increasing 5 years:\",new_age_array)\n",
    "print(ages)"
   ]
  },
  {
   "cell_type": "markdown",
   "metadata": {},
   "source": [
    "### **Q5**. Using NumPy, calculate the total salary expense (sum of all salaries) and the difference between the maximum and minimum salary. Print both results.\n",
    "### **Solution:**"
   ]
  },
  {
   "cell_type": "code",
   "execution_count": 30,
   "metadata": {},
   "outputs": [
    {
     "name": "stdout",
     "output_type": "stream",
     "text": [
      "Salary Expense: 574469\n",
      "Difference between maximum and minimum salary 58966\n"
     ]
    }
   ],
   "source": [
    "salary_expenses=salaries.sum()\n",
    "print(\"Salary Expense:\",salary_expenses)\n",
    "difference=np.max(salaries)-np.min(salaries)\n",
    "print(\"Difference between maximum and minimum salary\",difference)"
   ]
  },
  {
   "cell_type": "markdown",
   "metadata": {},
   "source": [
    "### **Q6.** Load the ```employees.csv``` file into a Pandas DataFrame. Display the first 5 rows, and check basic info using ```info()``` and summary statistics using ```describe()```.\n",
    "### **Solution:**"
   ]
  },
  {
   "cell_type": "code",
   "execution_count": 46,
   "metadata": {},
   "outputs": [
    {
     "name": "stdout",
     "output_type": "stream",
     "text": [
      "   id  age  salary     dept\n",
      "0   1   56   77191       HR\n",
      "1   2   46   74131       IT\n",
      "2   3   32   46023  Finance\n",
      "3   4   25   71090       IT\n",
      "4   5   38   31685       HR\n",
      "5   6   56   30769    Sales\n",
      "6   7   36   89735  Finance\n",
      "7   8   40   86101       IT\n",
      "8   9   28   32433    Sales\n",
      "9  10   28   35311       HR\n",
      "First Five rows:\n",
      "    id  age  salary     dept\n",
      "0   1   56   77191       HR\n",
      "1   2   46   74131       IT\n",
      "2   3   32   46023  Finance\n",
      "3   4   25   71090       IT\n",
      "4   5   38   31685       HR\n",
      "Basic Info:\n",
      "<class 'pandas.core.frame.DataFrame'>\n",
      "RangeIndex: 10 entries, 0 to 9\n",
      "Data columns (total 4 columns):\n",
      " #   Column  Non-Null Count  Dtype \n",
      "---  ------  --------------  ----- \n",
      " 0   id      10 non-null     int64 \n",
      " 1   age     10 non-null     int64 \n",
      " 2   salary  10 non-null     int64 \n",
      " 3   dept    10 non-null     object\n",
      "dtypes: int64(3), object(1)\n",
      "memory usage: 452.0+ bytes\n",
      "None\n",
      "\n",
      "Summary Statistics:\n",
      "             id       age        salary\n",
      "count  10.00000  10.00000     10.000000\n",
      "mean    5.50000  38.50000  57446.900000\n",
      "std     3.02765  11.16791  24357.262884\n",
      "min     1.00000  25.00000  30769.000000\n",
      "25%     3.25000  29.00000  33152.500000\n",
      "50%     5.50000  37.00000  58556.500000\n",
      "75%     7.75000  44.50000  76426.000000\n",
      "max    10.00000  56.00000  89735.000000\n"
     ]
    }
   ],
   "source": [
    "import pandas as pd\n",
    "\n",
    "df = pd.read_csv('employees.csv')\n",
    "print(df)\n",
    "print(\"First Five rows:\\n\",df.head(5))\n",
    "print(\"Basic Info:\")\n",
    "print(df.info())\n",
    "print(\"\\nSummary Statistics:\")\n",
    "print(df.describe())"
   ]
  },
  {
   "cell_type": "markdown",
   "metadata": {},
   "source": [
    "###** Q7.** Display only the ```id```, ```age```, and ```salary``` columns. Then show the last 3 rows using ```tail()```.\n",
    "### **Solution:**"
   ]
  },
  {
   "cell_type": "code",
   "execution_count": 53,
   "metadata": {},
   "outputs": [
    {
     "name": "stdout",
     "output_type": "stream",
     "text": [
      "   id  age  salary\n",
      "0   1   56   77191\n",
      "1   2   46   74131\n",
      "2   3   32   46023\n",
      "3   4   25   71090\n",
      "4   5   38   31685\n",
      "5   6   56   30769\n",
      "6   7   36   89735\n",
      "7   8   40   86101\n",
      "8   9   28   32433\n",
      "9  10   28   35311\n",
      "\n",
      "Last three rows:\n",
      "    id  age  salary   dept\n",
      "7   8   40   86101     IT\n",
      "8   9   28   32433  Sales\n",
      "9  10   28   35311     HR\n"
     ]
    }
   ],
   "source": [
    "print(df[['id','age','salary']])\n",
    "print(\"\\nLast three rows:\\n\",df.tail(3))"
   ]
  },
  {
   "cell_type": "markdown",
   "metadata": {},
   "source": [
    "### **Q8.** Filter the DataFrame to show only employees who work in the ```IT``` department. Print the result and show the total number of IT employees.\n",
    "### **Solution:**"
   ]
  },
  {
   "cell_type": "code",
   "execution_count": 57,
   "metadata": {},
   "outputs": [
    {
     "name": "stdout",
     "output_type": "stream",
     "text": [
      "\n",
      "Employees in IT Department:\n",
      "    id  age  salary dept\n",
      "1   2   46   74131   IT\n",
      "3   4   25   71090   IT\n",
      "7   8   40   86101   IT\n",
      "\n",
      "Total Number of IT employees: 3\n"
     ]
    }
   ],
   "source": [
    "employees_in_IT=df[df['dept']==\"IT\"]\n",
    "print(\"\\nEmployees in IT Department:\\n\",employees_in_IT)\n",
    "print(\"\\nTotal Number of IT employees:\",len(employees_in_IT))"
   ]
  }
 ],
 "metadata": {
  "kernelspec": {
   "display_name": "base",
   "language": "python",
   "name": "python3"
  },
  "language_info": {
   "codemirror_mode": {
    "name": "ipython",
    "version": 3
   },
   "file_extension": ".py",
   "mimetype": "text/x-python",
   "name": "python",
   "nbconvert_exporter": "python",
   "pygments_lexer": "ipython3",
   "version": "3.13.5"
  }
 },
 "nbformat": 4,
 "nbformat_minor": 2
}
