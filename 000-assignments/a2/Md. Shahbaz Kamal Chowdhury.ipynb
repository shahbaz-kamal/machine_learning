{
 "cells": [
  {
   "cell_type": "markdown",
   "metadata": {},
   "source": [
    "### Email Address: ```shahbazkamal84@gmail.com```"
   ]
  },
  {
   "cell_type": "code",
   "execution_count": 5,
   "metadata": {},
   "outputs": [
    {
     "name": "stdout",
     "output_type": "stream",
     "text": [
      "Sample Data Created and Saved as employees.csv\n",
      "   id  age  salary     dept\n",
      "0   1   56   77191       HR\n",
      "1   2   46   74131       IT\n",
      "2   3   32   46023  Finance\n",
      "3   4   25   71090       IT\n",
      "4   5   38   31685       HR\n",
      "5   6   56   30769    Sales\n",
      "6   7   36   89735  Finance\n",
      "7   8   40   86101       IT\n",
      "8   9   28   32433    Sales\n",
      "9  10   28   35311       HR\n"
     ]
    }
   ],
   "source": [
    "import numpy as np\n",
    "import pandas as pd\n",
    "\n",
    "np.random.seed(42)\n",
    "\n",
    "ids = np.arange(1, 11)\n",
    "ages = np.random.randint(18, 60, 10)\n",
    "salaries = np.random.randint(30000, 90000, 10)\n",
    "departments = np.array([\"HR\", \"IT\", \"Finance\", \"IT\", \"HR\", \"Sales\", \"Finance\", \"IT\", \"Sales\", \"HR\"])\n",
    "\n",
    "DF = pd.DataFrame({\n",
    "\"id\": ids,\n",
    "\"age\": ages,\n",
    "\"salary\": salaries,\n",
    "\"dept\": departments\n",
    "})\n",
    "\n",
    "DF.to_csv(\"employees.csv\", index=False)\n",
    "print(\"Sample Data Created and Saved as employees.csv\")\n",
    "print(DF)\n"
   ]
  },
  {
   "cell_type": "markdown",
   "metadata": {},
   "source": [
    "### Answer to Q1:"
   ]
  },
  {
   "cell_type": "code",
   "execution_count": 17,
   "metadata": {},
   "outputs": [
    {
     "name": "stdout",
     "output_type": "stream",
     "text": [
      "Salaries: [77191 74131 46023 71090 31685 30769 89735 86101 32433 35311]\n",
      "Salary dtype: int32\n",
      "Salary ndim: 1\n",
      "Salary shape: (10,)\n",
      "Salary size: 10\n",
      "\n",
      "ages: [56 46 32 25 38 56 36 40 28 28]\n",
      "age dtype: int32\n",
      "age ndim: 1\n",
      "age shape: (10,)\n",
      "age size: 10\n"
     ]
    }
   ],
   "source": [
    "salaries=DF[\"salary\"].to_numpy()\n",
    "ages=DF[\"age\"].to_numpy()\n",
    "print(\"Salaries:\",salaries)\n",
    "print(\"Salary dtype:\",salaries.dtype)\n",
    "print(\"Salary ndim:\",salaries.ndim)\n",
    "print(\"Salary shape:\",salaries.shape)\n",
    "print(\"Salary size:\",salaries.size)\n",
    "\n",
    "print(\"\\nages:\",ages)\n",
    "print(\"age dtype:\",ages.dtype)\n",
    "print(\"age ndim:\",ages.ndim)\n",
    "print(\"age shape:\",ages.shape)\n",
    "print(\"age size:\",ages.size)"
   ]
  },
  {
   "cell_type": "markdown",
   "metadata": {},
   "source": [
    "### Q2. Using the ```salaries``` array, find and print the highest and lowest salary values. Also, calculate and print the average salary and age using NumPy functions.\n",
    "**Solution:**"
   ]
  },
  {
   "cell_type": "code",
   "execution_count": 19,
   "metadata": {},
   "outputs": [
    {
     "name": "stdout",
     "output_type": "stream",
     "text": [
      "Maximum Salary: 89735\n",
      "Minimum Salary: 30769\n",
      "Average Salary: 57446.9\n",
      "Average Age: 38.5\n"
     ]
    }
   ],
   "source": [
    "maximum_salary=np.max(salaries)\n",
    "minimum_salary=np.min(salaries)\n",
    "average_salary=np.mean(salaries)\n",
    "average_age=np.mean(ages)\n",
    "\n",
    "print(\"Maximum Salary:\",maximum_salary)\n",
    "print(\"Minimum Salary:\",minimum_salary)\n",
    "print(\"Average Salary:\",average_salary)\n",
    "print(\"Average Age:\",average_age)"
   ]
  }
 ],
 "metadata": {
  "kernelspec": {
   "display_name": "base",
   "language": "python",
   "name": "python3"
  },
  "language_info": {
   "codemirror_mode": {
    "name": "ipython",
    "version": 3
   },
   "file_extension": ".py",
   "mimetype": "text/x-python",
   "name": "python",
   "nbconvert_exporter": "python",
   "pygments_lexer": "ipython3",
   "version": "3.13.5"
  }
 },
 "nbformat": 4,
 "nbformat_minor": 2
}
