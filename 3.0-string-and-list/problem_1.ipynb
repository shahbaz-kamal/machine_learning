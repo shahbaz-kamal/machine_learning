{
 "cells": [
  {
   "cell_type": "markdown",
   "metadata": {},
   "source": [
    "Your lab is prototyping a Smart Light that turns on only when the room is bright enough. You are given two real numbers: the current brightness and a threshold. If brightness ≥ threshold, print ON; otherwise print OFF."
   ]
  },
  {
   "cell_type": "code",
   "execution_count": null,
   "metadata": {},
   "outputs": [
    {
     "name": "stdout",
     "output_type": "stream",
     "text": [
      "OFF\n"
     ]
    }
   ],
   "source": [
    "data1=input()\n",
    "data=data1.split()\n",
    "\n",
    "brightnes=float(data[0])\n",
    "threshold=float(data[1])\n",
    "\n",
    "if(brightnes>=threshold):\n",
    "    print(\"ON\")\n",
    "else:\n",
    "    print(\"OFF\")\n"
   ]
  },
  {
   "cell_type": "markdown",
   "metadata": {},
   "source": []
  }
 ],
 "metadata": {
  "kernelspec": {
   "display_name": "base",
   "language": "python",
   "name": "python3"
  },
  "language_info": {
   "codemirror_mode": {
    "name": "ipython",
    "version": 3
   },
   "file_extension": ".py",
   "mimetype": "text/x-python",
   "name": "python",
   "nbconvert_exporter": "python",
   "pygments_lexer": "ipython3",
   "version": "3.13.5"
  }
 },
 "nbformat": 4,
 "nbformat_minor": 2
}
