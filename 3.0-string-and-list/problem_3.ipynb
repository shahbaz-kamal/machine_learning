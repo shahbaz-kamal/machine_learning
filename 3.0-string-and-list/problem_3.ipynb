{
 "cells": [
  {
   "cell_type": "markdown",
   "metadata": {},
   "source": [
    "Your tiny trainer reports a stream of loss values. Read how many values to process, then read that many losses and compute the average. If the average loss is ≤ target, print PASS; otherwise print RETRY."
   ]
  },
  {
   "cell_type": "code",
   "execution_count": 4,
   "metadata": {},
   "outputs": [
    {
     "name": "stdout",
     "output_type": "stream",
     "text": [
      "RETRY\n"
     ]
    }
   ],
   "source": [
    "n=int(input())\n",
    "target=float(input())\n",
    "total=0\n",
    "for i in range(n):\n",
    "   loss=float(input())\n",
    "   total=total+loss\n",
    "average=total/n\n",
    "if average<=target:\n",
    "   print(\"PASS\")\n",
    "else:\n",
    "   print(\"RETRY\")\n",
    "\n",
    "\n",
    "\n",
    "\n"
   ]
  },
  {
   "cell_type": "code",
   "execution_count": null,
   "metadata": {},
   "outputs": [],
   "source": []
  }
 ],
 "metadata": {
  "kernelspec": {
   "display_name": "base",
   "language": "python",
   "name": "python3"
  },
  "language_info": {
   "codemirror_mode": {
    "name": "ipython",
    "version": 3
   },
   "file_extension": ".py",
   "mimetype": "text/x-python",
   "name": "python",
   "nbconvert_exporter": "python",
   "pygments_lexer": "ipython3",
   "version": "3.13.5"
  }
 },
 "nbformat": 4,
 "nbformat_minor": 2
}
