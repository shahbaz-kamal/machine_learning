{
 "cells": [
  {
   "cell_type": "markdown",
   "metadata": {},
   "source": [
    "You’re simulating an ensemble of mini-models that each vote YES or NO on admitting a user. Read how many votes there are, then read each vote. If the number of YES votes is greater than or equal to the number of NO votes, print ACCEPT; otherwise print REJECT."
   ]
  },
  {
   "cell_type": "code",
   "execution_count": null,
   "metadata": {},
   "outputs": [
    {
     "name": "stdout",
     "output_type": "stream",
     "text": [
      "REJECT\n"
     ]
    }
   ],
   "source": [
    "n=int(input())\n",
    "yesCount=0\n",
    "noCount=0\n",
    "for i in range(n):\n",
    "    vote=input()\n",
    "    if(vote==\"YES\"):\n",
    "        yesCount+=1\n",
    "    else:\n",
    "        noCount+=1\n",
    "if(yesCount>=noCount):\n",
    "    print(\"ACCEPT\")\n",
    "else:\n",
    "    print(\"REJECT\")"
   ]
  },
  {
   "cell_type": "code",
   "execution_count": null,
   "metadata": {},
   "outputs": [],
   "source": []
  }
 ],
 "metadata": {
  "kernelspec": {
   "display_name": "base",
   "language": "python",
   "name": "python3"
  },
  "language_info": {
   "codemirror_mode": {
    "name": "ipython",
    "version": 3
   },
   "file_extension": ".py",
   "mimetype": "text/x-python",
   "name": "python",
   "nbconvert_exporter": "python",
   "pygments_lexer": "ipython3",
   "version": "3.13.5"
  }
 },
 "nbformat": 4,
 "nbformat_minor": 2
}
