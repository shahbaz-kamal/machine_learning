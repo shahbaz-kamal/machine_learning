{
 "cells": [
  {
   "cell_type": "markdown",
   "metadata": {},
   "source": [
    "## AI Brightness Analyzer\n",
    "AI systems often analyze images by looking at the brightness of pixels. Each pixel has a brightness value, usually between 0 (dark) and 255 (bright). Let's simulate this concept!\n",
    "\n",
    "You are given a list of integers representing pixel brightness values. Your task is to find the average brightness and decide whether the image is Dark, Normal, or Bright.\n",
    "\n",
    "If the average brightness < 85 → print Dark Image\n",
    "If 85 ≤ average brightness ≤ 170 → print Normal Image\n",
    "If average brightness > 170 → print Bright Image"
   ]
  },
  {
   "cell_type": "code",
   "execution_count": 7,
   "metadata": {},
   "outputs": [
    {
     "name": "stdout",
     "output_type": "stream",
     "text": [
      "Sum of brightness: 460\n",
      "Length of number 4\n",
      "Average brightness: 115.0\n",
      "Normal Image\n"
     ]
    }
   ],
   "source": [
    "inp=input()\n",
    "\n",
    "numbers=[int(x) for x in inp.split()]\n",
    "sum=0\n",
    "for i in numbers:\n",
    "    sum=sum+i\n",
    "\n",
    "avg=sum/len(numbers)\n",
    "print(\"Sum of brightness:\",sum)\n",
    "print(\"Length of number\",len(numbers))\n",
    "print(\"Average brightness:\",avg)\n",
    "if(avg<85):\n",
    "    print(\"Dark Image\")\n",
    "elif avg>=85 and avg<=170:\n",
    "    print(\"Normal Image\")\n",
    "elif avg>=170:\n",
    "    print(\"Bright Image\")\n"
   ]
  },
  {
   "cell_type": "code",
   "execution_count": null,
   "metadata": {},
   "outputs": [],
   "source": []
  }
 ],
 "metadata": {
  "kernelspec": {
   "display_name": "base",
   "language": "python",
   "name": "python3"
  },
  "language_info": {
   "codemirror_mode": {
    "name": "ipython",
    "version": 3
   },
   "file_extension": ".py",
   "mimetype": "text/x-python",
   "name": "python",
   "nbconvert_exporter": "python",
   "pygments_lexer": "ipython3",
   "version": "3.13.5"
  }
 },
 "nbformat": 4,
 "nbformat_minor": 2
}
