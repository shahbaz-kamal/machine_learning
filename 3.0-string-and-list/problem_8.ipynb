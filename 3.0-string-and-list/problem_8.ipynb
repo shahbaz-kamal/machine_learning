{
 "cells": [
  {
   "cell_type": "markdown",
   "metadata": {},
   "source": [
    "### AI Keyword Counter\n",
    "AI systems often scan user messages to find keywords and understand intent. Let’s build a simple version of that!\n",
    "\n",
    "You are given a user's message and a list of AI-related keywords. Your task is to count how many of those keywords appear in the message.\n",
    "\n",
    "The keywords to look for are:\n",
    "\n",
    "ai, data, model, learn, train, neural\n",
    "\n",
    "If 2 or more keywords are found, print AI Detected. Otherwise, print Not AI Related.\n",
    "\n",
    "Input Format\n",
    "\n",
    "A single line of text (the user's message)."
   ]
  },
  {
   "cell_type": "code",
   "execution_count": null,
   "metadata": {},
   "outputs": [
    {
     "name": "stdout",
     "output_type": "stream",
     "text": [
      "Not Ai Related\n"
     ]
    }
   ],
   "source": [
    "sentence=input()\n",
    "keyWords=[\"ai\",\"data\",\"model\",\"learn\",\"train\",\"neural\"]\n",
    "matchedCount=0\n",
    "words=sentence.split()\n",
    "for word in keyWords:\n",
    "    if word in words:\n",
    "        matchedCount+=1\n",
    "\n",
    "if matchedCount>=2:\n",
    "    print(\"AI Detected\")\n",
    "else:\n",
    "    print(\"Not AI Related\")\n",
    "\n"
   ]
  },
  {
   "cell_type": "code",
   "execution_count": null,
   "metadata": {},
   "outputs": [],
   "source": []
  }
 ],
 "metadata": {
  "kernelspec": {
   "display_name": "base",
   "language": "python",
   "name": "python3"
  },
  "language_info": {
   "codemirror_mode": {
    "name": "ipython",
    "version": 3
   },
   "file_extension": ".py",
   "mimetype": "text/x-python",
   "name": "python",
   "nbconvert_exporter": "python",
   "pygments_lexer": "ipython3",
   "version": "3.13.5"
  }
 },
 "nbformat": 4,
 "nbformat_minor": 2
}
