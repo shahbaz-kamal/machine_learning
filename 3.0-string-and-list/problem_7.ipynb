{
 "cells": [
  {
   "cell_type": "markdown",
   "metadata": {},
   "source": [
    "### AI Bias Detector\n",
    "In AI, bias means the model might favor one category more than others. Let’s simulate this idea with lists and conditional logic!\n",
    "\n",
    "You are given a list of predictions made by an AI model. Each prediction is either 'A' or 'B'.\n",
    "\n",
    "Your task is to check whether the model is biased or fair:\n",
    "\n",
    "If the count of 'A' or 'B' is more than 70% of all predictions, print Biased Model.\n",
    "Otherwise, print Fair Model.\n",
    "Input Format\n",
    "\n",
    "A list of uppercase letters (A or B) separated by spaces.\n"
   ]
  },
  {
   "cell_type": "code",
   "execution_count": 3,
   "metadata": {},
   "outputs": [
    {
     "name": "stdout",
     "output_type": "stream",
     "text": [
      "Fair Model\n"
     ]
    }
   ],
   "source": [
    "inp=input()\n",
    "upperCaseLetters=inp.split()\n",
    "countA=0;countB=0\n",
    "\n",
    "\n",
    "for i in upperCaseLetters:\n",
    "    if i==\"A\":\n",
    "        countA+=1\n",
    "    elif i==\"B\":\n",
    "        countB+=1\n",
    "totalWords=len(upperCaseLetters)\n",
    "percentagesOfA=(countA/totalWords)*100\n",
    "percentagesOfB=(countB/totalWords)*100\n",
    "if percentagesOfA >70 or percentagesOfB >70:\n",
    "    print(\"Biased Model\")\n",
    "else:\n",
    "    print(\"Fair Model\")\n"
   ]
  },
  {
   "cell_type": "code",
   "execution_count": null,
   "metadata": {},
   "outputs": [],
   "source": []
  }
 ],
 "metadata": {
  "kernelspec": {
   "display_name": "base",
   "language": "python",
   "name": "python3"
  },
  "language_info": {
   "codemirror_mode": {
    "name": "ipython",
    "version": 3
   },
   "file_extension": ".py",
   "mimetype": "text/x-python",
   "name": "python",
   "nbconvert_exporter": "python",
   "pygments_lexer": "ipython3",
   "version": "3.13.5"
  }
 },
 "nbformat": 4,
 "nbformat_minor": 2
}
