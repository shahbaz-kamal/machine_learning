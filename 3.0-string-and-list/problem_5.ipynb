{
 "cells": [
  {
   "cell_type": "markdown",
   "metadata": {},
   "source": [
    "In real AI systems, mood detection uses natural language processing (NLP) to understand emotions from text. For now, let's simulate a mini version of that!\n",
    "\n",
    "You are given a sentence that represents a user's message. Your job is to guess if the mood is happy, sad, or neutral using simple logic:\n",
    "\n",
    "If the message contains words like happy, joy, or smile, print Happy Mood.\n",
    "If it contains words like sad, cry, or angry, print Sad Mood.\n",
    "Otherwise, print Neutral Mood."
   ]
  },
  {
   "cell_type": "code",
   "execution_count": 4,
   "metadata": {},
   "outputs": [
    {
     "name": "stdout",
     "output_type": "stream",
     "text": [
      "Neutral Mood\n"
     ]
    }
   ],
   "source": [
    "sentence=input()\n",
    "happyWord=[\"happy\",\"joy\",\"smile\"]\n",
    "sadWord=[\"sad\",\"angry\",\"cry\"]\n",
    "\n",
    "if \"happy\" in sentence or \"joy\" in sentence or \"smile\" in sentence:\n",
    "     print(\"Happy Mood\")\n",
    "       \n",
    "elif \"sad\" in sentence or \"angry\" in sentence or \"cry\" in sentence:\n",
    "     print(\"Sad Mood\")      \n",
    "else:\n",
    "     print(\"Neutral Mood\")\n",
    "       "
   ]
  },
  {
   "cell_type": "code",
   "execution_count": null,
   "metadata": {},
   "outputs": [],
   "source": []
  }
 ],
 "metadata": {
  "kernelspec": {
   "display_name": "base",
   "language": "python",
   "name": "python3"
  },
  "language_info": {
   "codemirror_mode": {
    "name": "ipython",
    "version": 3
   },
   "file_extension": ".py",
   "mimetype": "text/x-python",
   "name": "python",
   "nbconvert_exporter": "python",
   "pygments_lexer": "ipython3",
   "version": "3.13.5"
  }
 },
 "nbformat": 4,
 "nbformat_minor": 2
}
