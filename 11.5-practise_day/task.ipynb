{
 "cells": [
  {
   "cell_type": "markdown",
   "metadata": {},
   "source": [
    "### 1 . Create a 1D, 2D, and 3D NumPy array and print their dimensions and shapes."
   ]
  },
  {
   "cell_type": "code",
   "execution_count": 3,
   "metadata": {},
   "outputs": [
    {
     "name": "stdout",
     "output_type": "stream",
     "text": [
      "1D Array: [1 2 3 4 5]\n",
      "2D Array: [[1 2 3]\n",
      " [4 5 6]]\n",
      "3D Array: [[1 2 3]\n",
      " [4 5 6]\n",
      " [7 8 9]]\n"
     ]
    }
   ],
   "source": [
    "import numpy as np\n",
    "array1d=np.array([1,2,3,4,5])\n",
    "print(\"1D Array:\",array1d)\n",
    "array2d=np.array([[1,2,3],[4,5,6]])\n",
    "print(\"2D Array:\",array2d)\n",
    "array3d=np.array([[1,2,3],[4,5,6],[7,8,9]])\n",
    "print(\"3D Array:\",array3d)"
   ]
  },
  {
   "cell_type": "markdown",
   "metadata": {},
   "source": [
    "## 1 . Create a 1D, 2D, and 3D NumPy array and print their dimensions and shapes.\n",
    "<p>an array of zeros of shape (3,3)</p>\n",
    "<p>an array of ones of shape (2,5)</p>\n",
    "<p>n array filled with 7</p>"
   ]
  },
  {
   "cell_type": "code",
   "execution_count": 10,
   "metadata": {},
   "outputs": [
    {
     "name": "stdout",
     "output_type": "stream",
     "text": [
      "[[0 0 0]\n",
      " [0 0 0]\n",
      " [0 0 0]]\n",
      "[[1 1 1 1 1]\n",
      " [1 1 1 1 1]]\n",
      "[[7 7 7]\n",
      " [7 7 7]\n",
      " [7 7 7]]\n"
     ]
    }
   ],
   "source": [
    "#1\n",
    "\n",
    "# 1️⃣ Array of zeros with shape (3,3)\n",
    "arr1=np.zeros((3,3),dtype=np.int8)\n",
    "\n",
    "print(arr1)\n",
    "# 2️⃣ Array of ones with shape (2,5)\n",
    "arr1=np.ones((2,5),dtype=np.int8)\n",
    "\n",
    "print(arr1)\n",
    "# 3️⃣ Array filled with 7\n",
    "\n",
    "sevens_arr=np.full((3,3),7)\n",
    "print(sevens_arr)"
   ]
  },
  {
   "cell_type": "code",
   "execution_count": 13,
   "metadata": {},
   "outputs": [
    {
     "name": "stdout",
     "output_type": "stream",
     "text": [
      "[10 12 14 16 18 20 22 24 26 28 30 32 34 36 38 40 42 44 46 48 50]\n"
     ]
    }
   ],
   "source": [
    "even_Numbers=np.arange(10,51,2)\n",
    "print(even_Numbers)"
   ]
  },
  {
   "cell_type": "code",
   "execution_count": 14,
   "metadata": {},
   "outputs": [
    {
     "name": "stdout",
     "output_type": "stream",
     "text": [
      "Original 4*4 Matrix \n",
      " [[ 0  1  2  3]\n",
      " [ 4  5  6  7]\n",
      " [ 8  9 10 11]\n",
      " [12 13 14 15]]\n",
      "Printing test\n",
      "[[1 2]\n",
      " [5 6]]\n",
      "First row\n",
      " [[0 1 2 3]]\n",
      "Last Column\n",
      " [[ 3]\n",
      " [ 7]\n",
      " [11]\n",
      " [15]]\n",
      "Sub array\n",
      " [[ 5  6]\n",
      " [ 9 10]]\n"
     ]
    }
   ],
   "source": [
    "matrix=np.arange(16).reshape(4,4)\n",
    "print(\"Original 4*4 Matrix \\n\",matrix)\n",
    "\n",
    "first_row=matrix[0:2:1,1:3:1]\n",
    "\n",
    "print(\"Printing test\")\n",
    "print(first_row)\n",
    "row_0=matrix[0:1,]\n",
    "print(\"First row\\n\",row_0)\n",
    "# row_1=matrix[1:2,]\n",
    "# print(\"Row 1\\n\",row_1)\n",
    "last_column=matrix[::, -1::]\n",
    "print(\"Last Column\\n\",last_column)\n",
    "\n",
    "sub_array=matrix[1:3,1:3]\n",
    "print(\"Sub array\\n\",sub_array)"
   ]
  },
  {
   "cell_type": "markdown",
   "metadata": {},
   "source": [
    "### 5 . Add a 1D array [1,2,3] to each row of a 3×3 matrix."
   ]
  },
  {
   "cell_type": "code",
   "execution_count": 16,
   "metadata": {},
   "outputs": [
    {
     "name": "stdout",
     "output_type": "stream",
     "text": [
      "Input [[ 4  5  6]\n",
      " [ 7  8  9]\n",
      " [10 11 12]]\n",
      "result\n",
      " [[ 5  7  9]\n",
      " [ 8 10 12]\n",
      " [11 13 15]]\n"
     ]
    }
   ],
   "source": [
    "matrix=np.array([[4,5,6],[7,8,9],[10,11,12]])\n",
    "print(\"Input\",matrix)\n",
    "tobeAdded=np.array([1,2,3])\n",
    "\n",
    "result=matrix+tobeAdded\n",
    "print(\"result\\n\",result)"
   ]
  },
  {
   "cell_type": "markdown",
   "metadata": {},
   "source": [
    "### Given two arrays A and B, compute:\n",
    "(A + B) / 2\n",
    "\n",
    "\n",
    "A**2 + B**2\n"
   ]
  },
  {
   "cell_type": "code",
   "execution_count": 17,
   "metadata": {},
   "outputs": [
    {
     "name": "stdout",
     "output_type": "stream",
     "text": [
      "[[1 2 3]\n",
      " [4 5 6]\n",
      " [7 8 9]]\n",
      "[[9 8 7]\n",
      " [6 5 4]\n",
      " [3 2 1]]\n",
      "Result1\n",
      " [[5. 5. 5.]\n",
      " [5. 5. 5.]\n",
      " [5. 5. 5.]]\n",
      "Result2\n",
      " [[82 68 58]\n",
      " [52 50 52]\n",
      " [58 68 82]]\n"
     ]
    }
   ],
   "source": [
    "A=np.array([[1,2,3],[4,5,6],[7,8,9]])\n",
    "print(A)\n",
    "B=np.array([[9,8,7],[6,5,4],[3,2,1]])\n",
    "print(B)\n",
    "result1=(A+B)/2\n",
    "result2=A**2+B**2\n",
    "print(\"Result1\\n\",result1)\n",
    "print(\"Result2\\n\",result2)"
   ]
  }
 ],
 "metadata": {
  "kernelspec": {
   "display_name": "base",
   "language": "python",
   "name": "python3"
  },
  "language_info": {
   "codemirror_mode": {
    "name": "ipython",
    "version": 3
   },
   "file_extension": ".py",
   "mimetype": "text/x-python",
   "name": "python",
   "nbconvert_exporter": "python",
   "pygments_lexer": "ipython3",
   "version": "3.13.5"
  }
 },
 "nbformat": 4,
 "nbformat_minor": 2
}
