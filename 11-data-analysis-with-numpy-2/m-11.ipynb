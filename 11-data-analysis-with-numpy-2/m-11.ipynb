{
 "cells": [
  {
   "cell_type": "code",
   "execution_count": 4,
   "metadata": {},
   "outputs": [
    {
     "name": "stdout",
     "output_type": "stream",
     "text": [
      "[[30 67 80 30 38]\n",
      " [85 81 90 16 99]\n",
      " [ 3 95 35 91 17]\n",
      " [87 76 97 84 92]\n",
      " [61 32 17 52 58]\n",
      " [16  9 53 46 76]\n",
      " [12  2 30 56 90]\n",
      " [95 61 22 74 33]\n",
      " [58 50 99 22  9]\n",
      " [82 38 96 21  7]]\n",
      "(10, 5)\n"
     ]
    }
   ],
   "source": [
    "import numpy as np\n",
    "arr=np.random.randint(1,100,size=(10,5))\n",
    "print(arr)\n",
    "print(arr.shape)"
   ]
  },
  {
   "cell_type": "code",
   "execution_count": null,
   "metadata": {},
   "outputs": [
    {
     "name": "stdout",
     "output_type": "stream",
     "text": [
      "[[30 67 80 30 38 85 81 90 16 99]\n",
      " [ 3 95 35 91 17 87 76 97 84 92]\n",
      " [61 32 17 52 58 16  9 53 46 76]\n",
      " [12  2 30 56 90 95 61 22 74 33]\n",
      " [58 50 99 22  9 82 38 96 21  7]]\n",
      "2\n"
     ]
    }
   ],
   "source": [
    "b=arr.reshape(5,10)\n",
    "print(b.shape)\n",
    "print(b)\n",
    "print(b.ndim)"
   ]
  },
  {
   "cell_type": "code",
   "execution_count": null,
   "metadata": {},
   "outputs": [
    {
     "name": "stdout",
     "output_type": "stream",
     "text": [
      "1\n",
      "[30 67 80 30 38 85 81 90 16 99  3 95 35 91 17 87 76 97 84 92 61 32 17 52\n",
      " 58 16  9 53 46 76 12  2 30 56 90 95 61 22 74 33 58 50 99 22  9 82 38 96\n",
      " 21  7]\n"
     ]
    }
   ],
   "source": [
    "flatten=b.flatten()\n",
    "print(flatten.ndim)\n",
    "\n",
    "\n",
    "generilized_flattening=np.ravel(b,order=\"C\") #or \"F\"\n",
    "print(generilized_flattening)"
   ]
  },
  {
   "cell_type": "code",
   "execution_count": 13,
   "metadata": {},
   "outputs": [
    {
     "name": "stdout",
     "output_type": "stream",
     "text": [
      "[[10 20 30]\n",
      " [30 40 50]]\n",
      "[[10 30]\n",
      " [20 40]\n",
      " [30 50]]\n"
     ]
    }
   ],
   "source": [
    "mat=np.array([[10,20,30],[30,40,50]])\n",
    "print(mat)\n",
    "transpose=mat.T\n",
    "print(transpose)"
   ]
  },
  {
   "cell_type": "markdown",
   "metadata": {},
   "source": [
    "## arithmatic operations "
   ]
  },
  {
   "cell_type": "code",
   "execution_count": 14,
   "metadata": {},
   "outputs": [
    {
     "name": "stdout",
     "output_type": "stream",
     "text": [
      "[[12 23 34 45]]\n"
     ]
    }
   ],
   "source": [
    "x=np.array([10,20,30,40])\n",
    "y=np.array([[2,3,4,5]])\n",
    "\n",
    "add=x+y\n",
    "print(add)"
   ]
  }
 ],
 "metadata": {
  "kernelspec": {
   "display_name": "base",
   "language": "python",
   "name": "python3"
  },
  "language_info": {
   "codemirror_mode": {
    "name": "ipython",
    "version": 3
   },
   "file_extension": ".py",
   "mimetype": "text/x-python",
   "name": "python",
   "nbconvert_exporter": "python",
   "pygments_lexer": "ipython3",
   "version": "3.13.5"
  }
 },
 "nbformat": 4,
 "nbformat_minor": 2
}
