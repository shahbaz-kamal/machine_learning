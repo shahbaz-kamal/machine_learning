{
 "cells": [
  {
   "cell_type": "markdown",
   "metadata": {},
   "source": [
    "### 1. Create a Pandas Series from the list ```[10, 20, 30, 40, 50]```. Print the Series, its index, and data type. Then create a DataFrame with columns ```\"Name\"```, ```\"Age\"```, and \"City\" containing at least 4 rows of data."
   ]
  },
  {
   "cell_type": "code",
   "execution_count": 4,
   "metadata": {},
   "outputs": [
    {
     "name": "stdout",
     "output_type": "stream",
     "text": [
      "numbers\n",
      " [10, 20, 30, 40, 50]\n",
      "Series\n",
      " 0    10\n",
      "1    20\n",
      "2    30\n",
      "3    40\n",
      "4    50\n",
      "dtype: int64\n",
      "Data type of the Series: int64\n",
      "\n",
      "DataFrame:\n",
      "      Name  Age         City\n",
      "0    Alice   25     New York\n",
      "1      Bob   30  Los Angeles\n",
      "2  Charlie   28      Chicago\n",
      "3    David   22      Houston\n"
     ]
    }
   ],
   "source": [
    "import pandas as pd\n",
    "numbers=[10,20,30,40,50]\n",
    "print(\"numbers\\n\",numbers)\n",
    "series=pd.Series(numbers)\n",
    "print(\"Series\\n\",series)\n",
    "print(\"Data type of the Series:\",series.dtype)\n",
    "\n",
    "# Create a DataFrame with columns Name, Age, City\n",
    "data = {\n",
    "    \"Name\": [\"Alice\", \"Bob\", \"Charlie\", \"David\"],\n",
    "    \"Age\": [25, 30, 28, 22],\n",
    "    \"City\": [\"New York\", \"Los Angeles\", \"Chicago\", \"Houston\"]\n",
    "}\n",
    "df = pd.DataFrame(data)\n",
    "\n",
    "# Print the DataFrame\n",
    "print(\"\\nDataFrame:\")\n",
    "print(df)\n"
   ]
  },
  {
   "cell_type": "markdown",
   "metadata": {},
   "source": [
    "### 2. Using any DataFrame, write code to print the number of rows and columns, column data types (```.dtypes```), and summary statistics (```.describe()```)."
   ]
  },
  {
   "cell_type": "code",
   "execution_count": 11,
   "metadata": {},
   "outputs": [
    {
     "name": "stdout",
     "output_type": "stream",
     "text": [
      "(4, 3)\n",
      "\n",
      "Column data types:\n",
      "Name    object\n",
      "Age      int64\n",
      "City    object\n",
      "dtype: object\n",
      "\n",
      "Summary statistics:\n",
      "         Age\n",
      "count   4.00\n",
      "mean   26.25\n",
      "std     3.50\n",
      "min    22.00\n",
      "25%    24.25\n",
      "50%    26.50\n",
      "75%    28.50\n",
      "max    30.00\n"
     ]
    }
   ],
   "source": [
    "print(df.shape)\n",
    "# 2. Column data types\n",
    "print(\"\\nColumn data types:\")\n",
    "print(df.dtypes)\n",
    "# 3. Summary statistics for numeric columns\n",
    "print(\"\\nSummary statistics:\")\n",
    "print(df.describe())"
   ]
  },
  {
   "cell_type": "code",
   "execution_count": null,
   "metadata": {},
   "outputs": [
    {
     "name": "stdout",
     "output_type": "stream",
     "text": [
      "  Product  Price  Quantity\n",
      "0     Pen     10       100\n",
      "1    Book     50        60\n",
      "2  Eraser      5       200\n",
      "3  Pencil      7       150\n",
      "Columns:\n",
      " Index(['Product', 'Price', 'Quantity'], dtype='object')\n",
      "index:\n",
      " RangeIndex(start=0, stop=4, step=1)\n",
      "Price column:\n",
      " 0    100\n",
      "1     60\n",
      "2    200\n",
      "3    150\n",
      "Name: Quantity, dtype: int64\n",
      "\n",
      "First row:\n",
      "Product     Pen\n",
      "Price        10\n",
      "Quantity    100\n",
      "Name: 0, dtype: object\n"
     ]
    }
   ],
   "source": [
    "# Given data\n",
    "data = {\n",
    "    'Product': ['Pen', 'Book', 'Eraser', 'Pencil'],\n",
    "    'Price': [10, 50, 5, 7],\n",
    "    'Quantity': [100, 60, 200, 150]\n",
    "}\n",
    "df=pd.DataFrame(data)\n",
    "print(df)\n",
    "print(\"Columns:\\n\",df.columns)\n",
    "print(\"index:\\n\",df.index)\n",
    "# Access the 'Price' column\n",
    "print(\"Price column:\\n\",df['Quantity'])\n",
    "# Access the first row (row index 0)\n",
    "print(\"\\nFirst row:\")\n",
    "print(df.iloc[0])\n",
    "\n",
    "\n",
    "\n"
   ]
  },
  {
   "cell_type": "code",
   "execution_count": 26,
   "metadata": {},
   "outputs": [
    {
     "name": "stdout",
     "output_type": "stream",
     "text": [
      "  Product  Price  Quantity\n",
      "0     Pen     10       100\n",
      "1    Book     50        60\n",
      "2  Eraser      5       200\n",
      "3  Pencil      7       150\n",
      "First row\n",
      "   Product  Price  Quantity\n",
      "1    Book     50        60\n",
      "2  Eraser      5       200\n"
     ]
    }
   ],
   "source": [
    "print(df)\n",
    "print(\"First row\\n\",df.iloc[1:3,0:4])"
   ]
  },
  {
   "cell_type": "code",
   "execution_count": 31,
   "metadata": {},
   "outputs": [
    {
     "name": "stdout",
     "output_type": "stream",
     "text": [
      "Employee DataFrame:\n",
      "\n",
      "      Name Department  Salary\n",
      "0    Alice         HR   40000\n",
      "1      Bob         IT   40000\n",
      "2  Charlie    Finance   60000\n",
      "3    David         IT   52000\n",
      "4      Eva  Marketing   45000\n",
      "      Name Department  Salary\n",
      "1      Bob         IT   40000\n",
      "0    Alice         HR   40000\n",
      "4      Eva  Marketing   45000\n",
      "3    David         IT   52000\n",
      "2  Charlie    Finance   60000\n"
     ]
    }
   ],
   "source": [
    "data = {\n",
    "    'Name': ['Alice', 'Bob', 'Charlie', 'David', 'Eva'],\n",
    "    'Department': ['HR', 'IT', 'Finance', 'IT', 'Marketing'],\n",
    "    'Salary': [40000, 40000, 60000, 52000, 45000]\n",
    "}\n",
    "# Create DataFrame\n",
    "employees = pd.DataFrame(data)\n",
    "\n",
    "# Display the DataFrame\n",
    "print(\"Employee DataFrame:\\n\")\n",
    "print(employees)\n",
    "# Sort by Salary ascending, then by Name descending\n",
    "sorted_employees = employees.sort_values(by=['Salary', 'Name'], ascending=[True, False])\n",
    "print(sorted_employees)"
   ]
  },
  {
   "cell_type": "code",
   "execution_count": null,
   "metadata": {},
   "outputs": [],
   "source": [
    "import pandas as pd\n",
    "\n",
    "# Create a DataFrame of 8 students\n",
    "data = {\n",
    "    'Name': ['Alice', 'Bob', 'Charlie', 'David', 'Eva', 'Frank', 'Grace', 'Helen'],\n",
    "    'Score': [85, 35, 60, 72, 90, 25, 55, 38]\n",
    "}\n",
    "\n",
    "students = pd.DataFrame(data)\n",
    "\n",
    "# Filter students with Score > 60\n",
    "high_scores = students[students['Score'] > 60]\n",
    "print(\"Students with Score > 60:\\n\", high_scores)\n",
    "\n",
    "# Filter students with Score < 40\n",
    "low_scores = students[students['Score'] < 40]\n",
    "print(\"\\nStudents with Score < 40:\\n\", low_scores)\n"
   ]
  }
 ],
 "metadata": {
  "kernelspec": {
   "display_name": "base",
   "language": "python",
   "name": "python3"
  },
  "language_info": {
   "codemirror_mode": {
    "name": "ipython",
    "version": 3
   },
   "file_extension": ".py",
   "mimetype": "text/x-python",
   "name": "python",
   "nbconvert_exporter": "python",
   "pygments_lexer": "ipython3",
   "version": "3.13.5"
  }
 },
 "nbformat": 4,
 "nbformat_minor": 2
}
